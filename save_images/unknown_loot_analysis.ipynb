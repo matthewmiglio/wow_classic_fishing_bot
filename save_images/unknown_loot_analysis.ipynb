{
 "cells": [
  {
   "cell_type": "code",
   "execution_count": 5,
   "metadata": {},
   "outputs": [],
   "source": [
    "import os\n",
    "from PIL import Image\n",
    "from IPython.display import display\n",
    "import numpy as np"
   ]
  },
  {
   "cell_type": "code",
   "execution_count": 6,
   "metadata": {},
   "outputs": [],
   "source": [
    "def grab_files_recursively(top_dir):\n",
    "    items = [os.path.join(top_dir, item) for item in os.listdir(top_dir)]\n",
    "    fps = []\n",
    "\n",
    "    while len(items) != 0:\n",
    "        this_item = items.pop()\n",
    "        if os.path.isdir(this_item):\n",
    "            items.extend([os.path.join(this_item, item) for item in os.listdir(this_item)])\n",
    "        else:\n",
    "            fps.append(this_item)\n",
    "\n",
    "    return fps"
   ]
  },
  {
   "cell_type": "code",
   "execution_count": 7,
   "metadata": {},
   "outputs": [],
   "source": [
    "#method to open a txt file\n",
    "def read_txt(fp):\n",
    "    with open(fp,'r') as f:\n",
    "        line =  f.read()\n",
    "        line=line.replace('\\n','').replace(' ','')\n",
    "        return line\n"
   ]
  },
  {
   "cell_type": "code",
   "execution_count": 8,
   "metadata": {},
   "outputs": [
    {
     "data": {
      "image/jpeg": "[encoded data removed]",
      "image/png": "[encoded data removed]",
      "text/plain": [
       "<PIL.PngImagePlugin.PngImageFile image mode=RGB size=27x28>"
      ]
     },
     "metadata": {},
     "output_type": "display_data"
    },
    {
     "name": "stdout",
     "output_type": "stream",
     "text": [
      "{(255,0,0):0,(0,255,0):0,(0,0,255):0,(255,255,0):0,(0,255,255):0,(255,0,255):0,(192,192,192):12,(128,128,128):200,(255,165,0):0,(128,0,128):88,(0,128,128):22,(0,0,0):434}\n",
      "--------------------------------------------------\n"
     ]
    },
    {
     "data": {
      "image/jpeg": "[encoded data removed]",
      "image/png": "[encoded data removed]",
      "text/plain": [
       "<PIL.PngImagePlugin.PngImageFile image mode=RGB size=27x28>"
      ]
     },
     "metadata": {},
     "output_type": "display_data"
    },
    {
     "name": "stdout",
     "output_type": "stream",
     "text": [
      "{(255,0,0):0,(0,255,0):0,(0,0,255):0,(255,255,0):0,(0,255,255):0,(255,0,255):0,(192,192,192):52,(128,128,128):259,(255,165,0):0,(128,0,128):3,(0,128,128):68,(0,0,0):374}\n",
      "--------------------------------------------------\n"
     ]
    },
    {
     "data": {
      "image/jpeg": "[encoded data removed]",
      "image/png": "[encoded data removed]",
      "text/plain": [
       "<PIL.PngImagePlugin.PngImageFile image mode=RGB size=27x28>"
      ]
     },
     "metadata": {},
     "output_type": "display_data"
    },
    {
     "name": "stdout",
     "output_type": "stream",
     "text": [
      "{(255,0,0):0,(0,255,0):0,(0,0,255):0,(255,255,0):0,(0,255,255):0,(255,0,255):0,(192,192,192):96,(128,128,128):221,(255,165,0):0,(128,0,128):76,(0,128,128):0,(0,0,0):363}\n",
      "--------------------------------------------------\n"
     ]
    },
    {
     "data": {
      "image/jpeg": "[encoded data removed]",
      "image/png": "[encoded data removed]",
      "text/plain": [
       "<PIL.PngImagePlugin.PngImageFile image mode=RGB size=27x28>"
      ]
     },
     "metadata": {},
     "output_type": "display_data"
    },
    {
     "name": "stdout",
     "output_type": "stream",
     "text": [
      "{(255,0,0):0,(0,255,0):0,(0,0,255):0,(255,255,0):0,(0,255,255):0,(255,0,255):0,(192,192,192):45,(128,128,128):342,(255,165,0):0,(128,0,128):53,(0,128,128):0,(0,0,0):316}\n",
      "--------------------------------------------------\n"
     ]
    },
    {
     "data": {
      "image/jpeg": "[encoded data removed]",
      "image/png": "[encoded data removed]",
      "text/plain": [
       "<PIL.PngImagePlugin.PngImageFile image mode=RGB size=27x28>"
      ]
     },
     "metadata": {},
     "output_type": "display_data"
    },
    {
     "name": "stdout",
     "output_type": "stream",
     "text": [
      "{(255,0,0):0,(0,255,0):0,(0,0,255):0,(255,255,0):0,(0,255,255):40,(255,0,255):0,(192,192,192):106,(128,128,128):140,(255,165,0):0,(128,0,128):2,(0,128,128):134,(0,0,0):334}\n",
      "--------------------------------------------------\n"
     ]
    }
   ],
   "source": [
    "top_dir = os.path.join(os.getcwd(), \"unknown_loot\")\n",
    "\n",
    "fps = grab_files_recursively(top_dir)\n",
    "\n",
    "image_fps = [fp for fp in fps if fp.endswith(\".png\")]\n",
    "\n",
    "images = [Image.open(fp) for fp in image_fps]\n",
    "\n",
    "def get_avg_color(image:Image.Image):\n",
    "    imgarr = np.array(image)\n",
    "    avg_color = np.mean(imgarr, axis=(0, 1))\n",
    "    return sum(avg_color)\n",
    "\n",
    "\n",
    "avg_colors = [get_avg_color(image) for image in images]\n",
    "\n",
    "filepath2avgcolor = dict(zip(image_fps, avg_colors))\n",
    "\n",
    "#sort dict by value\n",
    "sorted_filepath2avgcolor = dict(sorted(filepath2avgcolor.items(), key=lambda item: item[1]))\n",
    "\n",
    "seen_dicts = []\n",
    "\n",
    "for image_file_path, avg_color in sorted_filepath2avgcolor.items():\n",
    "    color_dict_file_path = image_file_path.replace('loot_image.png','color_dict.txt')\n",
    "    color_dict_text = read_txt(color_dict_file_path)\n",
    "    if color_dict_text in seen_dicts:\n",
    "        continue\n",
    "    image = Image.open(image_file_path)\n",
    "    display(image)\n",
    "    print(color_dict_text)\n",
    "    seen_dicts.append(color_dict_text)\n",
    "    print('-'*50)\n"
   ]
  }
 ],
 "metadata": {
  "kernelspec": {
   "display_name": "Python 3",
   "language": "python",
   "name": "python3"
  },
  "language_info": {
   "codemirror_mode": {
    "name": "ipython",
    "version": 3
   },
   "file_extension": ".py",
   "mimetype": "text/x-python",
   "name": "python",
   "nbconvert_exporter": "python",
   "pygments_lexer": "ipython3",
   "version": "3.11.1"
  }
 },
 "nbformat": 4,
 "nbformat_minor": 2
}
