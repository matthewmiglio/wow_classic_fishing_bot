{
 "cells": [
  {
   "cell_type": "code",
   "execution_count": null,
   "metadata": {},
   "outputs": [],
   "source": [
    "export_folder = r'C:\\My_Files\\my_programs\\custom_ai\\dataset'\n",
    "import os\n",
    "import random\n"
   ]
  },
  {
   "cell_type": "code",
   "execution_count": null,
   "metadata": {},
   "outputs": [],
   "source": [
    "#make all the export folders\n",
    "export_train_folder = os.path.join(export_folder, 'train')\n",
    "export_val_folder = os.path.join(export_folder, 'val')\n",
    "labels = ['not','splash']\n",
    "for folder in [export_train_folder, export_val_folder]:\n",
    "    for label in labels:\n",
    "        os.makedirs(os.path.join(folder, label), exist_ok=True)"
   ]
  },
  {
   "cell_type": "code",
   "execution_count": null,
   "metadata": {},
   "outputs": [],
   "source": [
    "#cut the amount of not images to the amount of splash images\n",
    "fishing_images_path = os.getcwd().replace('data_export','splash_images')\n",
    "splash_images = os.listdir(os.path.join(fishing_images_path,'splash'))\n",
    "not_images = os.listdir(os.path.join(fishing_images_path,'not'))\n",
    "not_images = random.sample(not_images,len(splash_images))\n",
    "random.shuffle(splash_images)\n",
    "random.shuffle(not_images)\n",
    "print(f'There are {len(splash_images)} splash images and {len(not_images)} not images')"
   ]
  },
  {
   "cell_type": "code",
   "execution_count": null,
   "metadata": {},
   "outputs": [],
   "source": [
    "#print the counts of each export folder\n",
    "print('PRE MOVE COUNTS')\n",
    "for folder in [export_train_folder, export_val_folder]:\n",
    "    for label in labels:\n",
    "        print(f'{folder} {label} count: {len(os.listdir(os.path.join(folder,label)))}')"
   ]
  },
  {
   "cell_type": "code",
   "execution_count": null,
   "metadata": {},
   "outputs": [],
   "source": [
    "#move the images to the export folders\n",
    "import shutil\n",
    "train_ratio = 0.8\n",
    "for i, image in enumerate(splash_images):\n",
    "    if i < train_ratio*len(splash_images):\n",
    "        shutil.copy(os.path.join(fishing_images_path,'splash',image), os.path.join(export_train_folder,'splash',image))\n",
    "    else:\n",
    "        shutil.copy(os.path.join(fishing_images_path,'splash',image), os.path.join(export_val_folder,'splash',image))\n",
    "for i, image in enumerate(not_images):\n",
    "    if i < train_ratio*len(not_images):\n",
    "        shutil.copy(os.path.join(fishing_images_path,'not',image), os.path.join(export_train_folder,'not',image))\n",
    "    else:\n",
    "        shutil.copy(os.path.join(fishing_images_path,'not',image), os.path.join(export_val_folder,'not',image))"
   ]
  },
  {
   "cell_type": "code",
   "execution_count": null,
   "metadata": {},
   "outputs": [],
   "source": [
    "#print the counts of each export folder\n",
    "print('POST MOVE COUNTS')\n",
    "for folder in [export_train_folder, export_val_folder]:\n",
    "    for label in labels:\n",
    "        print(f'{folder} {label} count: {len(os.listdir(os.path.join(folder,label)))}')"
   ]
  }
 ],
 "metadata": {
  "kernelspec": {
   "display_name": "Python 3",
   "language": "python",
   "name": "python3"
  },
  "language_info": {
   "codemirror_mode": {
    "name": "ipython",
    "version": 3
   },
   "file_extension": ".py",
   "mimetype": "text/x-python",
   "name": "python",
   "nbconvert_exporter": "python",
   "pygments_lexer": "ipython3",
   "version": "3.11.1"
  }
 },
 "nbformat": 4,
 "nbformat_minor": 2
}
